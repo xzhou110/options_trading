{
 "cells": [
  {
   "cell_type": "code",
   "execution_count": 1,
   "metadata": {
    "ExecuteTime": {
     "end_time": "2021-01-31T09:17:24.254601Z",
     "start_time": "2021-01-31T09:17:23.404233Z"
    }
   },
   "outputs": [],
   "source": [
    "import matplotlib.pyplot as plt\n",
    "import numpy as np\n",
    "import pandas as pd\n",
    "from datetime import datetime\n",
    "\n",
    "from varname import nameof\n",
    "import math"
   ]
  },
  {
   "cell_type": "code",
   "execution_count": 2,
   "metadata": {
    "ExecuteTime": {
     "end_time": "2021-01-31T09:17:24.943233Z",
     "start_time": "2021-01-31T09:17:24.352613Z"
    }
   },
   "outputs": [],
   "source": [
    "# !pip install gspread\n",
    "# !pip install --upgrade oauth2client\n",
    "# !pip install PyOpenSSL\n",
    "\n",
    "import gspread\n",
    "from oauth2client.service_account import ServiceAccountCredentials\n",
    "import pandas as pd"
   ]
  },
  {
   "cell_type": "code",
   "execution_count": 3,
   "metadata": {
    "ExecuteTime": {
     "end_time": "2021-01-31T09:17:25.059587Z",
     "start_time": "2021-01-31T09:17:25.051730Z"
    }
   },
   "outputs": [],
   "source": [
    "plt.style.use('seaborn')"
   ]
  },
  {
   "cell_type": "markdown",
   "metadata": {},
   "source": [
    "<H1> Stock Option Classes </H1>"
   ]
  },
  {
   "cell_type": "code",
   "execution_count": 55,
   "metadata": {
    "ExecuteTime": {
     "end_time": "2021-01-31T09:32:54.367609Z",
     "start_time": "2021-01-31T09:32:54.355368Z"
    }
   },
   "outputs": [
    {
     "data": {
      "text/plain": [
       "-762"
      ]
     },
     "execution_count": 55,
     "metadata": {},
     "output_type": "execute_result"
    }
   ],
   "source": [
    "a = datetime.now()\n",
    "b = datetime.strptime('2019-01-01', '%Y-%m-%d')\n",
    "(b-a).days"
   ]
  },
  {
   "cell_type": "code",
   "execution_count": 80,
   "metadata": {
    "ExecuteTime": {
     "end_time": "2021-01-31T09:41:15.880263Z",
     "start_time": "2021-01-31T09:41:15.853443Z"
    }
   },
   "outputs": [],
   "source": [
    "class Options:\n",
    "    def __init__(self, ticker, expiration, action, strike, premium, curr_price, imp_vol, min_price=0, max_price=100):\n",
    "        self.exp_date = datetime.strptime(expiration, '%Y-%m-%d')\n",
    "        self.exp_date_yr = self.exp_date.year\n",
    "        self.exp_date_mon = self.exp_date.month\n",
    "        self.exp_date_day = self.exp_date.day\n",
    "        \n",
    "        # format month and date as double digits\n",
    "        if self.exp_date_mon < 10:\n",
    "            self.exp_date_mon = '0' + str(self.exp_date_mon)\n",
    "        if self.exp_date_day < 10:\n",
    "            self.exp_date_day = '0' + str(self.exp_date_day)\n",
    "        \n",
    "        # calculate month from now\n",
    "        curr_date = datetime.now()\n",
    "        self.days_from_now = (self.exp_date - curr_date).days\n",
    "        self.months_from_now = (self.exp_date.year - curr_date.year)*12 + (self.exp_date.month - curr_date.month)\n",
    "        \n",
    "        self.ticker = ticker\n",
    "        self.expiration = expiration\n",
    "        self.exp_date_trans = str(self.exp_date_yr)[-2:] + str(self.exp_date_mon) + str(self.exp_date_day)\n",
    "        self.action = action\n",
    "        self.strike = strike\n",
    "        self.premium = premium\n",
    "        self.curr_price = curr_price\n",
    "        self.imp_vol = imp_vol\n",
    "        self.min_price = min_price\n",
    "        self.max_price = max_price\n",
    "        self.payoff = [] \n",
    "        self.weighted_payoff = []\n",
    "        self.return_ = []\n",
    "        self.price_prob = {}\n",
    "        self.breakeven =  -99\n",
    "        self.payoff_min = -99\n",
    "        self.payoff_max = -99\n",
    "        self.return_min = -99\n",
    "        self.return_max = -99\n",
    "        self.avg_return = -99\n",
    "             \n",
    "        if action == 'buy':\n",
    "            self.cost = round(premium, 1)\n",
    "        elif action == 'sell':\n",
    "            self.cost = round(-premium,1)\n",
    "\n",
    "    def predict_price(self):\n",
    "\n",
    "        self.std_dev = self.curr_price * self.imp_vol * np.sqrt(self.months_from_now/12)\n",
    "\n",
    "        num_reps = 1000\n",
    "        num_iter = 1000\n",
    "        possible_prices = []\n",
    "\n",
    "        # Generate all possible prices\n",
    "        for i in range(num_iter):\n",
    "            prices = np.random.normal(self.curr_price, self.std_dev, num_reps)\n",
    "            prices = [int(x) if x>=0 else x for x in prices ]\n",
    "            possible_prices.extend(prices)\n",
    "\n",
    "        # count all the prices and create a dictionary\n",
    "        price_counter = {}\n",
    "        for price in possible_prices:\n",
    "            if price_counter.get(price):\n",
    "                price_counter[price]+=1\n",
    "            else:\n",
    "                price_counter[price] = 1 \n",
    "\n",
    "        # Create a list of probabilities\n",
    "        total_count = len(possible_prices)\n",
    "\n",
    "        price_prob = [] \n",
    "\n",
    "        for price in range(self.min_price, self.max_price+1):\n",
    "            if price_counter.get(price):\n",
    "                prob = price_counter[price]/total_count\n",
    "                price_prob.append(prob)\n",
    "                self.price_prob[price] = prob\n",
    "            else:\n",
    "                price_prob.append(0)\n",
    "                self.price_prob[price] = 0\n",
    "        \n",
    "    def calc_payoff(self):\n",
    "        for price in range (self.min_price, self.max_price+1):\n",
    "            earn = self.calc_profit(price)\n",
    "            weighted_earn = earn * self.price_prob[price]\n",
    "            self.payoff.append(earn)\n",
    "            self.weighted_payoff.append(weighted_earn)\n",
    "        \n",
    "        try: self.breakeven = list(self.payoff).index(0)\n",
    "        except: \n",
    "            minimum = min(self.payoff, key = abs)\n",
    "            self.breakeven = list(self.payoff).index(minimum)\n",
    "            \n",
    "        self.breakeven  = round(self.breakeven,1)\n",
    "        self.payoff_min = round(min(self.payoff),1)\n",
    "        self.payoff_max = round(max(self.payoff),1)\n",
    "        self.avg_payoff = round(sum(self.weighted_payoff),3)\n",
    "        \n",
    "    def calc_return(self):\n",
    "        for payoff in self.payoff:\n",
    "            return_ = round(payoff/self.cost,3)\n",
    "            self.return_.append(return_)\n",
    "        self.return_min = round(self.payoff_min/self.cost,3)\n",
    "        self.return_max = round(self.payoff_max/self.cost,3)\n",
    "        self.avg_return = round(self.avg_payoff/self.cost,3)\n",
    "        self.avg_annualized_return = round(pow(1 + self.avg_return, 365/self.days_from_now)-1, 3)\n",
    "    \n",
    "    def create_graph(self):\n",
    "\n",
    "        max_x = self.max_price\n",
    "        min_x = self.min_price\n",
    "        interval = (max_x - min_x)/10\n",
    "        \n",
    "        max_y = self.payoff_max + interval\n",
    "        min_y = self.payoff_min - 5*interval\n",
    "        \n",
    "        x = np.arange(min_x, max_x +1, 1)\n",
    "        y = self.payoff\n",
    "        \n",
    "#         print(len(x))\n",
    "\n",
    "        print('Strategy:', self.name, \n",
    "              ';Payoff Range:[', self.payoff_min, ',', self.payoff_max, \n",
    "              '];Breakeven Price:', self.breakeven,\n",
    "              ';Cost:', self.cost,\n",
    "               ';Return Range:[', \"{:.1%}\".format(self.return_min), ',', \"{:.1%}\".format(self.return_max), ']',\n",
    "              '; Avg. Return:',\"{:.1%}\".format(self.avg_return),\n",
    "              '; Avg. Annual Return:',\"{:.1%}\".format(self.avg_annualized_return)\n",
    "             )\n",
    "        \n",
    "        plt.xlabel('Stock Price at Expiration')\n",
    "        plt.ylabel('Payoff')\n",
    "        plt.xticks(np.arange(min_x, max_x+interval, interval))\n",
    "        plt.yticks(np.arange(min_y, max_y, interval))\n",
    "        \n",
    "        plt.xlim (min_x, max_x) # limit range of x to show\n",
    "        plt.ylim (min_y, max_y)\n",
    "    #     plt.legend(loc = 'upper left')\n",
    "        plt.plot(x, y, label = self.name )\n",
    "        plt.legend()\n",
    "        \n",
    "    def create_graph_stock_only(self, current_price):\n",
    "        max_x = self.max_price\n",
    "        min_x = self.min_price\n",
    "        interval = (max_x - min_x)/10\n",
    "        \n",
    "        max_y = self.payoff_max + interval\n",
    "        min_y = self.payoff_min - 5*interval\n",
    "        \n",
    "        x = np.arange(min_x, max_x+1, 1)\n",
    "        y = [a - current_price for a in x]\n",
    "        \n",
    "        payoff_min = round(min(x) - current_price,1)\n",
    "        payoff_max = round(max(x) - current_price, 1)\n",
    "        cost = round(current_price,1)\n",
    "        return_min = round(payoff_min/cost,3)\n",
    "        return_max = round(payoff_max/cost,3)\n",
    "        current_price = round(current_price,1)\n",
    "\n",
    "        print('Strategy: Stock Only;', \n",
    "              'Payoff Range:[', payoff_min, ',', payoff_max, \n",
    "              '];Breakeven Price:', current_price,\n",
    "              'Cost:', cost,\n",
    "              ';Return Range:[', \"{:.1%}\".format(return_min), ',', \"{:.1%}\".format(return_max), ']'\n",
    "#               '; Average Return:',\"{:.1%}\".format(self.avg_return)\n",
    "             )\n",
    "        plt.xticks(np.arange(0, max_x+interval, interval))\n",
    "        plt.yticks(np.arange(min_y , max_y, interval))\n",
    "    #     plt.legend(loc = 'upper left')\n",
    "        plt.xlim (min_x, max_x)\n",
    "        plt.ylim (min_y, max_y)\n",
    "        plt.plot(x, y, label = 'Stock Only' )\n",
    "        plt.legend()"
   ]
  },
  {
   "cell_type": "code",
   "execution_count": 81,
   "metadata": {
    "ExecuteTime": {
     "end_time": "2021-01-31T09:41:16.652218Z",
     "start_time": "2021-01-31T09:41:16.643936Z"
    }
   },
   "outputs": [],
   "source": [
    "class Call(Options):\n",
    "    def __init__(self, ticker, expiration, action, strike, premium, curr_price, imp_vol, min_price=0, max_price=100):\n",
    "        super().__init__(ticker, expiration, action, strike, premium, curr_price, imp_vol, min_price, max_price)\n",
    "        self.name = self.ticker + self.exp_date_trans + 'C'+ str(self.strike)\n",
    "        self.type = 'call'\n",
    "        self.predict_price()\n",
    "        self.calc_payoff()\n",
    "        self.calc_return()\n",
    "        \n",
    "        \n",
    "    def calc_profit(self, price):\n",
    "        if self.action == 'buy':\n",
    "            if price <= self.strike:\n",
    "                profit =  -self.premium\n",
    "            elif price > self.strike:\n",
    "                profit = price - self.strike - self.premium\n",
    "            \n",
    "        elif self.action == 'sell':\n",
    "            if price <= self.strike:\n",
    "                profit = self.premium\n",
    "            elif price > self.strike:\n",
    "                profit = - price + self.strike + self.premium\n",
    "                \n",
    "        return profit\n",
    "      "
   ]
  },
  {
   "cell_type": "code",
   "execution_count": 82,
   "metadata": {
    "ExecuteTime": {
     "end_time": "2021-01-31T09:41:17.174551Z",
     "start_time": "2021-01-31T09:41:17.166590Z"
    }
   },
   "outputs": [],
   "source": [
    "class Put(Options):\n",
    "    def __init__(self, ticker, expiration, action, strike, premium, curr_price, imp_vol, min_price=0, max_price=100):\n",
    "        super().__init__(ticker, expiration, action, strike, premium, curr_price, imp_vol, min_price, max_price)\n",
    "        self.name = self.ticker + self.exp_date_trans + 'P'+ str(self.strike)\n",
    "        self.type = 'put'\n",
    "        self.predict_price()\n",
    "        self.calc_payoff()\n",
    "        self.calc_return()\n",
    "        \n",
    "    def calc_profit(self, price):\n",
    "        if self.action == 'buy':\n",
    "            if price <= self.strike:\n",
    "                profit = self.strike - price - self.premium\n",
    "            elif price > self.strike:\n",
    "                profit = - self.premium\n",
    "            \n",
    "        elif self.action == 'sell':\n",
    "            if price <= self.strike:\n",
    "                profit = - self.strike + price + self.premium\n",
    "            elif price > self.strike:\n",
    "                profit = self.premium\n",
    "        return profit\n",
    "            "
   ]
  },
  {
   "cell_type": "code",
   "execution_count": 83,
   "metadata": {
    "ExecuteTime": {
     "end_time": "2021-01-31T09:41:18.090977Z",
     "start_time": "2021-01-31T09:41:17.977469Z"
    }
   },
   "outputs": [],
   "source": [
    "class OptionsStrategy:\n",
    "    def __init__(self, options_list, coefficients = []):\n",
    "        self.ticker = options_list[0].ticker\n",
    "        self.exp_date_trans = options_list[0].exp_date_trans\n",
    "        self.min_price = options_list[0].min_price\n",
    "        self.max_price = options_list[0].max_price\n",
    "        self.options_list = options_list\n",
    "        self.coefficients = coefficients\n",
    "        \n",
    "        self.payoff = []\n",
    "        self.return_ = []\n",
    "        self.breakeven = -99\n",
    "        self.payoff_min = -99\n",
    "        self.payoff_max = -99\n",
    "        self.return_min = -99\n",
    "        self.return_max = -99\n",
    "        self.avg_return = -99\n",
    "\n",
    "        self.create_name()\n",
    "        self.calc_payoff()\n",
    "        self.calc_return()\n",
    "    \n",
    "    def create_name(self):\n",
    "        self.name = self.ticker + self.exp_date_trans\n",
    "        for option in self.options_list:\n",
    "            # Add action, option type, strike price to combo name\n",
    "            if option.action == 'buy':\n",
    "                self.name+='_B'\n",
    "            elif option.action == 'sell':\n",
    "                self.name+='_S'\n",
    "                \n",
    "            if option.type == 'call':\n",
    "                self.name+='C'\n",
    "            elif option.type == 'put':\n",
    "                self.name+='P'\n",
    "            \n",
    "            self.name+=str(option.strike)\n",
    "            \n",
    "    def calc_payoff(self):\n",
    "        self.cost = 0\n",
    "        data_shape = len(self.options_list[0].payoff)\n",
    "        if len(self.coefficients) == 0:\n",
    "            self.coefficients = np.ones(data_shape)\n",
    "            \n",
    "        for index, option in enumerate(self.options_list):\n",
    "            self.cost+=self.coefficients[index] * option.cost\n",
    "            if len(self.payoff)==0:\n",
    "                self.payoff = self.coefficients[index] * np.array(option.payoff) \n",
    "            else:\n",
    "                self.payoff = np.add(self.payoff, \n",
    "                                     self.coefficients[index] * np.array(option.payoff)\n",
    "                                    )\n",
    "        self.cost = round(self.cost, 1)\n",
    "            \n",
    "        \n",
    "        # calculate breakeven, payoff_min, payoff_max\n",
    "        try: self.breakeven = list(self.payoff).index(0)\n",
    "        except: \n",
    "            minimum = min(self.payoff, key = abs)\n",
    "            self.breakeven = list(self.payoff).index(minimum)\n",
    "            \n",
    "        self.breakeven  = round(self.breakeven,1)\n",
    "        self.payoff_min = round(min(self.payoff),1)\n",
    "        self.payoff_max = round(max(self.payoff),1)\n",
    "        \n",
    "    \n",
    "    def calc_return(self):\n",
    "        for payoff in self.payoff:\n",
    "            return_ = round(payoff/self.cost,3)\n",
    "            self.return_.append(return_)\n",
    "        self.return_min = round(self.payoff_min/self.cost,3)\n",
    "        self.return_max = round(self.payoff_max/self.cost,3)\n",
    "        self.avg_return = np.abs(np.mean(self.return_))\n",
    "        \n",
    "    \n",
    "    def create_graph(self):\n",
    "        \n",
    "        max_x = self.max_price\n",
    "        min_x = self.min_price\n",
    "        interval = (max_x - min_x)/10\n",
    "        \n",
    "        max_y = self.payoff_max + interval\n",
    "        min_y = self.payoff_min - 5*interval\n",
    "        \n",
    "        x = np.arange(min_x, max_x +1, 1)\n",
    "        y = self.payoff\n",
    "\n",
    "        print('Strategy:', self.name, \n",
    "              ';Payoff Range:[', self.payoff_min, ',', self.payoff_max, \n",
    "              '];Breakeven Price:', self.breakeven,\n",
    "              ';Cost:', self.cost,\n",
    "               ';Return Range:[', \"{:.1%}\".format(self.return_min), ',', \"{:.1%}\".format(self.return_max), ']',\n",
    "              '; Avg. Return:',\"{:.1%}\".format(self.avg_return)\n",
    "             )\n",
    "        \n",
    "        plt.xlabel('Stock Price at Expiration')\n",
    "        plt.ylabel('Payoff')\n",
    "        plt.xticks(np.arange(min_x, max_x+interval, interval))\n",
    "        plt.yticks(np.arange(min_y, max_y, interval))\n",
    "        plt.xlim (min_x, max_x) # limit range of x to show\n",
    "        plt.ylim (min_y, max_y)\n",
    "    #     plt.legend(loc = 'upper left')\n",
    "        plt.plot(x, y, label = self.name )\n",
    "        plt.legend()\n",
    "        \n",
    "    \n",
    "    def create_graph_stock_only(self, current_price):\n",
    "        max_x = self.max_price\n",
    "        min_x = self.min_price\n",
    "        interval = (max_x - min_x)/10\n",
    "        max_y = self.payoff_max + interval\n",
    "        min_y = self.payoff_min - 5*interval\n",
    "\n",
    "        x = np.arange(min_x, max_x+1, 1)\n",
    "        y = [a - current_price for a in x]\n",
    "\n",
    "        payoff_min = round(min(x) - current_price,1)\n",
    "        payoff_max = round(max(x) - current_price,1)\n",
    "        cost = round(current_price,1)\n",
    "        return_min = round(payoff_min/cost,3)\n",
    "        return_max = round(payoff_max/cost,3)\n",
    "        current_price = round(current_price,1)\n",
    "\n",
    "        print('Strategy: Stock Only;', \n",
    "              'Payoff Range:[', payoff_min, ',', payoff_max, \n",
    "              '];Breakeven Price:', current_price,\n",
    "              'Cost:', cost,\n",
    "              ';Return Range:[', \"{:.1%}\".format(return_min), ',', \"{:.1%}\".format(return_max), ']',\n",
    "#               '; Average Return:',\"{:.0%}\".format(self.avg_return)\n",
    "             )\n",
    "        plt.xticks(np.arange(min_x, max_x+interval, interval))\n",
    "        plt.yticks(np.arange(min_y, max_y, interval))\n",
    "        plt.xlim (min_x, max_x) # limit range of x to show\n",
    "        plt.ylim (min_y, max_y)\n",
    "    #     plt.legend(loc = 'upper left')\n",
    "        plt.plot(x, y, label = 'Stock Only' )\n",
    "        plt.legend()\n",
    "             "
   ]
  },
  {
   "cell_type": "markdown",
   "metadata": {
    "ExecuteTime": {
     "end_time": "2021-01-23T09:48:56.186173Z",
     "start_time": "2021-01-23T09:48:56.177986Z"
    }
   },
   "source": [
    "<h1>Applications</H1>"
   ]
  },
  {
   "cell_type": "code",
   "execution_count": 86,
   "metadata": {
    "ExecuteTime": {
     "end_time": "2021-01-31T09:41:21.570285Z",
     "start_time": "2021-01-31T09:41:20.396970Z"
    }
   },
   "outputs": [
    {
     "name": "stdout",
     "output_type": "stream",
     "text": [
      "Strategy: NIO250102C20 ;Payoff Range:[ -48 , 32 ];Breakeven Price: 68 ;Cost: 48 ;Return Range:[ -100.0% , 66.7% ] ; Avg. Return: -22.5% ; Avg. Annual Return: -6.3%\n"
     ]
    },
    {
     "data": {
      "image/png": "[encoded data removed]",
      "text/plain": [
       "<Figure size 576x396 with 1 Axes>"
      ]
     },
     "metadata": {},
     "output_type": "display_data"
    }
   ],
   "source": [
    "bc20 = Call('NIO', '2025-01-02', 'buy', 20, 48, 58, 0.33)\n",
    "bc20.create_graph()"
   ]
  },
  {
   "cell_type": "code",
   "execution_count": 89,
   "metadata": {
    "ExecuteTime": {
     "end_time": "2021-01-31T09:41:28.688034Z",
     "start_time": "2021-01-31T09:41:24.876992Z"
    }
   },
   "outputs": [
    {
     "name": "stdout",
     "output_type": "stream",
     "text": [
      "Strategy: NIO250102C20 ;Payoff Range:[ -48 , 32 ];Breakeven Price: 68 ;Cost: 48 ;Return Range:[ -100.0% , 66.7% ] ; Avg. Return: -22.5% ; Avg. Annual Return: -6.3%\n",
      "Strategy: NIO250310C50 ;Payoff Range:[ -35 , 15 ];Breakeven Price: 65 ;Cost: -15 ;Return Range:[ 233.3% , -100.0% ] ; Avg. Return: -12.2% ; Avg. Annual Return: -3.1%\n",
      "Strategy: NIO250105P30 ;Payoff Range:[ -35 , -5 ];Breakeven Price: 0 ;Cost: 35 ;Return Range:[ -100.0% , -14.3% ] ; Avg. Return: -74.1% ; Avg. Annual Return: -29.1%\n",
      "Strategy: NIO250105P60 ;Payoff Range:[ -52 , 8 ];Breakeven Price: 52 ;Cost: -8 ;Return Range:[ 650.0% , -100.0% ] ; Avg. Return: 63.7% ; Avg. Annual Return: 13.4%\n",
      "Strategy: Stock Only; Payoff Range:[ -60 , 40 ];Breakeven Price: 60 Cost: 60 ;Return Range:[ -100.0% , 66.7% ]\n"
     ]
    },
    {
     "data": {
      "image/png": "[encoded data removed]",
      "text/plain": [
       "<Figure size 576x396 with 1 Axes>"
      ]
     },
     "metadata": {},
     "output_type": "display_data"
    }
   ],
   "source": [
    "bc20 = Call('NIO', '2025-01-02', 'buy', 20, 48, 58, 0.33)\n",
    "sc50 = Call('NIO', '2025-03-10', 'sell', 50, 15, 58, 0.33)\n",
    "bp30 = Put('NIO', '2025-01-05', 'buy', 30, 35, 58, 0.33)\n",
    "sp60 = Put('NIO', '2025-01-05', 'sell', 60, 8, 58, 0.33)\n",
    "\n",
    "# create_graph(bc20.name, bc20.payoff, bc20.cost)\n",
    "# create_graph(sc50.name, sc50.payoff, sc50.cost)\n",
    "# create_graph(bp30.name, bp30.payoff, bp30.cost)\n",
    "# create_graph(sp60.name, sp60.payoff, sp60.cost)\n",
    "\n",
    "bc20.create_graph()\n",
    "sc50.create_graph()\n",
    "bp30.create_graph()\n",
    "sp60.create_graph()\n",
    "\n",
    "bc20.create_graph_stock_only(60)\n"
   ]
  },
  {
   "cell_type": "code",
   "execution_count": 90,
   "metadata": {
    "ExecuteTime": {
     "end_time": "2021-01-31T09:42:55.174644Z",
     "start_time": "2021-01-31T09:42:54.918819Z"
    }
   },
   "outputs": [
    {
     "name": "stdout",
     "output_type": "stream",
     "text": [
      "Strategy: NIO250102_BC20_SC50 ;Payoff Range:[ -33.0 , -3.0 ];Breakeven Price: 50 ;Cost: 33.0 ;Return Range:[ -100.0% , -9.1% ] ; Avg. Return: 41.0%\n",
      "Strategy: NIO250310_SC50_SP60 ;Payoff Range:[ -37.0 , 13.0 ];Breakeven Price: 37 ;Cost: -23.0 ;Return Range:[ 160.9% , -56.5% ] ; Avg. Return: 33.7%\n",
      "Strategy: Stock Only; Payoff Range:[ -60 , 40 ];Breakeven Price: 60 Cost: 60 ;Return Range:[ -100.0% , 66.7% ]\n"
     ]
    },
    {
     "data": {
      "image/png": "[encoded data removed]",
      "text/plain": [
       "<Figure size 576x396 with 1 Axes>"
      ]
     },
     "metadata": {},
     "output_type": "display_data"
    }
   ],
   "source": [
    "# optioin_strategy: approach #2 - OptionStrategy\n",
    "\n",
    "\n",
    "bc20_sc50 = OptionsStrategy([bc20, sc50])\n",
    "sc50_sp60 = OptionsStrategy([sc50, sp60])\n",
    "\n",
    "bc20_sc50.create_graph()\n",
    "sc50_sp60.create_graph()\n",
    "bc20_sc50.create_graph_stock_only(60)"
   ]
  },
  {
   "cell_type": "code",
   "execution_count": 92,
   "metadata": {
    "ExecuteTime": {
     "end_time": "2021-01-31T09:43:32.466409Z",
     "start_time": "2021-01-31T09:43:30.548048Z"
    }
   },
   "outputs": [
    {
     "name": "stdout",
     "output_type": "stream",
     "text": [
      "Strategy: NIO210501_BC50_SC80 ;Payoff Range:[ -5.0 , 25.0 ];Breakeven Price: 55 ;Cost: 5.0 ;Return Range:[ -100.0% , 500.0% ] ; Avg. Return: 110.9%\n",
      "Strategy: Stock Only; Payoff Range:[ -60 , 40 ];Breakeven Price: 60 Cost: 60 ;Return Range:[ -100.0% , 66.7% ]\n"
     ]
    },
    {
     "data": {
      "image/png": "[encoded data removed]",
      "text/plain": [
       "<Figure size 576x396 with 1 Axes>"
      ]
     },
     "metadata": {},
     "output_type": "display_data"
    }
   ],
   "source": [
    "# Bull Spread Strategy: buy call 50 and sell call 80\n",
    "\n",
    "bc50 = Call('NIO', '2021-05-01', 'buy', 50, 20, 58, 0.33)\n",
    "sc80 = Call('NIO', '2021-05-01', 'sell', 80, 15, 58, 0.33)\n",
    "\n",
    "bc50_sc80 = OptionsStrategy([bc50, sc80])\n",
    "\n",
    "bc50_sc80.create_graph()\n",
    "bc50_sc80.create_graph_stock_only(60)"
   ]
  },
  {
   "cell_type": "code",
   "execution_count": null,
   "metadata": {
    "ExecuteTime": {
     "end_time": "2021-01-31T07:55:54.110176Z",
     "start_time": "2021-01-31T07:55:53.797817Z"
    }
   },
   "outputs": [],
   "source": [
    "# Straddle Strategy: buy call 50 and buy put 50\n",
    "\n",
    "bc50 = Call('NIO', '2021-05-01', 'buy', 50, 20)\n",
    "bp50 = Put('NIO', '2021-05-01', 'buy', 50, 15)\n",
    "\n",
    "bc50_sc80 = OptionsStrategy([bc50, bp50])\n",
    "\n",
    "bc50_sc80.create_graph()\n",
    "bc50_sc80.create_graph_stock_only(60)"
   ]
  },
  {
   "cell_type": "code",
   "execution_count": null,
   "metadata": {
    "ExecuteTime": {
     "end_time": "2021-01-31T07:55:54.341586Z",
     "start_time": "2021-01-31T07:55:54.113925Z"
    }
   },
   "outputs": [],
   "source": [
    "# Butterfly Spread Strategy: buy 1 call 50, sell 2 call 60, and buy a call 70\n",
    "\n",
    "bc50 = Call('NIO', '2021-05-01', 'buy', 50, 12)\n",
    "sc60 = Call('NIO', '2021-05-01', 'sell', 60, 5)\n",
    "bc70 = Call('NIO', '2021-05-01', 'buy', 70, 2)\n",
    "\n",
    "bc50_sc60_bc70 = OptionsStrategy([bc50, sc60, bc70], coefficients = [1, 2, 1])\n",
    "\n",
    "bc50_sc60_bc70.create_graph()\n",
    "bc50_sc60_bc70.create_graph_stock_only(60)"
   ]
  },
  {
   "cell_type": "code",
   "execution_count": null,
   "metadata": {
    "ExecuteTime": {
     "end_time": "2021-01-31T07:55:54.718686Z",
     "start_time": "2021-01-31T07:55:54.345564Z"
    }
   },
   "outputs": [],
   "source": [
    "# Stragegy: buy call @3 and buy put @5\n",
    "\n",
    "nio_bc3 = Call('NIO', '2023-01-20', 'buy', 3, 58.38, max_price=200)\n",
    "nio_bp5 = Put('NIO', '2023-01-20', 'buy', 5, 0.59, max_price=200)\n",
    "\n",
    "nio_bc3_bp5 = OptionsStrategy([nio_bc3, nio_bp5])\n",
    "\n",
    "nio_bc3_bp5.create_graph()\n",
    "nio_bc3_bp5.create_graph_stock_only(60)"
   ]
  },
  {
   "cell_type": "code",
   "execution_count": null,
   "metadata": {
    "ExecuteTime": {
     "end_time": "2021-01-31T07:55:55.268683Z",
     "start_time": "2021-01-31T07:55:54.724715Z"
    }
   },
   "outputs": [],
   "source": [
    "# NIO strategies\n",
    "\n",
    "nio_bc3 = Call('NIO', '2023-01-20', 'buy', 3, 58.38, max_price=200)\n",
    "nio_bp5 = Put('NIO', '2023-01-20', 'buy', 5, 0.59, max_price=200)\n",
    "nio_sp45 = Put('NIO', '2023-01-20', 'sell', 45, 18.45, max_price=200)\n",
    "nio_sp60 = Put('NIO', '2023-01-20', 'sell', 60, 29.5, max_price=200)\n",
    "nio_sp70 = Put('NIO', '2023-01-20', 'sell', 70, 37.3, max_price=200)\n",
    "nio_sp80 = Put('NIO', '2023-01-20', 'sell', 80, 44.5, max_price=200)\n",
    "nio_sp85 = Put('NIO', '2023-01-20', 'sell', 85, 45, max_price=200)\n",
    "nio_sp100 = Put('NIO', '2023-01-20', 'sell', 100, 61.05, max_price=200)\n",
    "\n",
    "\n",
    "s1 = OptionsStrategy([nio_bc3, nio_bp5])\n",
    "s2 = OptionsStrategy([nio_bc3, nio_sp45])\n",
    "s3 = OptionsStrategy([nio_bc3, nio_sp60])\n",
    "s4 = OptionsStrategy([nio_bc3, nio_sp70])\n",
    "s5 = OptionsStrategy([nio_bc3, nio_sp80])\n",
    "s6 = OptionsStrategy([nio_bc3, nio_sp85])\n",
    "s7 = OptionsStrategy([nio_bc3, nio_sp100])\n",
    "\n",
    "\n",
    "for strategy in [s1, s2, s3, s4, s5, s6, s7]:\n",
    "    strategy.create_graph()\n",
    "\n",
    "s1.create_graph_stock_only(60)"
   ]
  },
  {
   "cell_type": "code",
   "execution_count": null,
   "metadata": {
    "ExecuteTime": {
     "end_time": "2021-01-31T07:55:55.782687Z",
     "start_time": "2021-01-31T07:55:55.271663Z"
    }
   },
   "outputs": [],
   "source": [
    "# Riot Strategy\n",
    "\n",
    "s1 = Call('RIOT', '2023-01-20', 'buy', 7, 22.10,    max_price=100)\n",
    "s2 = Call('RIOT', '2023-01-20', 'buy', 10, 20.25,   max_price=100)\n",
    "s3 = Call('RIOT', '2023-01-20', 'buy', 12, 20.55,   max_price=100)\n",
    "s4 = Call('RIOT', '2023-01-20', 'buy', 15, 20,      max_price=100)\n",
    "s5 = Call('RIOT', '2023-01-20', 'buy', 17, 18.55,   max_price=100)\n",
    "s6 = Call('RIOT', '2023-01-20', 'buy', 20, 18.85,   max_price=100)\n",
    "s7 = Call('RIOT', '2023-01-20', 'buy', 25, 18.45,   max_price=100)\n",
    "s8 = Call('RIOT', '2023-01-20', 'buy', 30, 17.10,   max_price=100)\n",
    "s9 = Call('RIOT', '2023-01-20', 'buy', 35, 16,      max_price=100)\n",
    "\n",
    "\n",
    "for strategy in [s1, s2, s3, s4, s5, s6, s7, s8, s9]:\n",
    "    strategy.create_graph()\n",
    "\n",
    "s1.create_graph_stock_only(25.84)"
   ]
  },
  {
   "cell_type": "code",
   "execution_count": null,
   "metadata": {
    "ExecuteTime": {
     "end_time": "2021-01-31T07:55:56.362039Z",
     "start_time": "2021-01-31T07:55:55.786765Z"
    }
   },
   "outputs": [],
   "source": [
    "# ARK Calls\n",
    "\n",
    "s1  = Call('ARKK', '2023-01-20', 'buy', 47.96, 100.80,   max_price=300)\n",
    "s2  = Call('ARKK', '2023-01-20', 'buy', 67.96, 85.30,    max_price=300)\n",
    "s3  = Call('ARKK', '2023-01-20', 'buy', 77.96, 77.90,    max_price=300)\n",
    "s4  = Call('ARKK', '2023-01-20', 'buy', 87.96, 71.10,    max_price=300)\n",
    "s5  = Call('ARKK', '2023-01-20', 'buy', 107.96, 60.10,   max_price=300)\n",
    "s6  = Call('ARKK', '2023-01-20', 'buy', 117.96, 56.40,   max_price=300)\n",
    "s7  = Call('ARKK', '2023-01-20', 'buy', 127.96, 51.30,   max_price=300)\n",
    "s8  = Call('ARKK', '2023-01-20', 'buy', 137.96, 46.90,   max_price=300)\n",
    "s9  = Call('ARKK', '2023-01-20', 'buy', 147.96, 42.70,   max_price=300)\n",
    "s10 = Call('ARKK', '2023-01-20', 'buy', 157.96, 39.90,   max_price=300)\n",
    "s11 = Call('ARKK', '2023-01-20', 'buy', 167.96, 36.90,   max_price=300)\n",
    "s12 = Call('ARKK', '2023-01-20', 'buy', 182.96, 31.40,   max_price=300)\n",
    "s13 = Call('ARKK', '2023-01-20', 'buy', 200, 26.70,      max_price=300)\n",
    "\n",
    "for strategy in [s1, s2, s3, s4, s5, s6, s7, s8, s9, s10, s11, s12, s13]:\n",
    "    strategy.create_graph()\n",
    "\n",
    "s1.create_graph_stock_only(143.94)"
   ]
  },
  {
   "cell_type": "code",
   "execution_count": null,
   "metadata": {
    "ExecuteTime": {
     "end_time": "2021-01-31T07:55:57.010936Z",
     "start_time": "2021-01-31T07:55:56.368604Z"
    }
   },
   "outputs": [],
   "source": [
    "# 1/19/21\n",
    "# ARK Calls\n",
    "\n",
    "s1  = Call('ARKK', '2023-01-20', 'buy', 47.96, 106,   max_price=300)\n",
    "s2  = Call('ARKK', '2023-01-20', 'buy', 67.96, 90,    max_price=300)\n",
    "s3  = Call('ARKK', '2023-01-20', 'buy', 77.96, 82,    max_price=300)\n",
    "s4  = Call('ARKK', '2023-01-20', 'buy', 97.96, 70.5,    max_price=300)\n",
    "s5  = Call('ARKK', '2023-01-20', 'buy', 98.96, 69.5,   max_price=300)\n",
    "s6  = Call('ARKK', '2023-01-20', 'buy', 100, 69.5,   max_price=300)\n",
    "s7  = Call('ARKK', '2023-01-20', 'buy', 107.96, 64.5,   max_price=300)\n",
    "s8  = Call('ARKK', '2023-01-20', 'buy', 117.96, 60,   max_price=300)\n",
    "s9  = Call('ARKK', '2023-01-20', 'buy', 127.96, 54.60,   max_price=300)\n",
    "s10  = Call('ARKK', '2023-01-20', 'buy', 137.96, 51,   max_price=300)\n",
    "s11  = Call('ARKK', '2023-01-20', 'buy', 147.96, 46.90,   max_price=300)\n",
    "s12 = Call('ARKK', '2023-01-20', 'buy', 157.96, 44,   max_price=300)\n",
    "s13 = Call('ARKK', '2023-01-20', 'buy', 167.96, 40.50,   max_price=300)\n",
    "s14 = Call('ARKK', '2023-01-20', 'buy', 182.96, 35.20,   max_price=300)\n",
    "s15 = Call('ARKK', '2023-01-20', 'buy', 200, 30.5,      max_price=300)\n",
    "s16 = Call('ARKK', '2023-01-20', 'buy', 215, 26.5,      max_price=300)\n",
    "\n",
    "\n",
    "\n",
    "for strategy in [s1, s2, s3, s4, s5, s6, s7, s8, s9, s10, s11, s12, s13, s14, s15, s16]:\n",
    "    strategy.create_graph()\n",
    "\n",
    "s1.create_graph_stock_only(141.91)"
   ]
  },
  {
   "cell_type": "code",
   "execution_count": null,
   "metadata": {
    "ExecuteTime": {
     "end_time": "2021-01-31T07:55:57.356378Z",
     "start_time": "2021-01-31T07:55:57.014262Z"
    }
   },
   "outputs": [],
   "source": [
    "c1 = Call('TSLA', '2021-01-29', 'buy', 830, 65.75, min_price=700,  max_price=1000)\n",
    "c2 = Call('TSLA', '2023-01-29', 'buy', 850, 54,    min_price=700,    max_price=1000)\n",
    "c3 = Call('TSLA', '2023-01-29', 'buy', 870, 44.2,  min_price=700,  max_price=1000)\n",
    "c4 = Call('TSLA', '2023-01-29', 'buy', 875, 41.8,  min_price=700,  max_price=1000)\n",
    "\n",
    "p1 = Put('TSLA', '2023-01-29', 'buy', 800, 9.95,   min_price=700, max_price=1000)\n",
    "p2 = Put('TSLA', '2023-01-29', 'buy', 850, 27.15,  min_price=700, max_price=1000)\n",
    "p3 = Put('TSLA', '2023-01-29', 'buy', 870, 37.60,  min_price=700, max_price=1000)\n",
    "p4 = Put('TSLA', '2023-01-29', 'buy', 875, 40.40,  min_price=700, max_price=1000)\n",
    "\n",
    "\n",
    "s1 = OptionsStrategy([c1, p1])\n",
    "s2 = OptionsStrategy([c2, p2])\n",
    "s3 = OptionsStrategy([c3, p3])\n",
    "s4 = OptionsStrategy([c4, p4])\n",
    "s5 = OptionsStrategy([c4, p1])\n",
    "\n",
    "\n",
    "for strategy in [s1, s2, s3, s4]:\n",
    "    strategy.create_graph()\n",
    "s1.create_graph_stock_only(876.38)"
   ]
  },
  {
   "cell_type": "markdown",
   "metadata": {
    "ExecuteTime": {
     "end_time": "2021-01-23T09:49:34.678902Z",
     "start_time": "2021-01-23T09:49:34.666187Z"
    }
   },
   "source": [
    "<h1> Google Sheet Helper </h1>"
   ]
  },
  {
   "cell_type": "code",
   "execution_count": null,
   "metadata": {
    "ExecuteTime": {
     "end_time": "2021-01-31T07:55:57.368092Z",
     "start_time": "2021-01-31T07:55:57.358893Z"
    }
   },
   "outputs": [],
   "source": [
    "def read_google_sheet(google_sheet_name, tab_name):\n",
    "\n",
    "    scope = ['https://spreadsheets.google.com/feeds',\n",
    "             'https://www.googleapis.com/auth/drive']\n",
    "\n",
    "    credentials = ServiceAccountCredentials.from_json_keyfile_name(\n",
    "             '../../backup/google_api/stock-options-assessment-236c62880c44.json', scope) # Your json file here\n",
    "\n",
    "    client = gspread.authorize(credentials)\n",
    "    spreadsheetName = google_sheet_name\n",
    "    sheetName = tab_name\n",
    "    \n",
    "    spreadsheet = client.open(spreadsheetName)\n",
    "    sheet = spreadsheet.worksheet(sheetName)\n",
    "    \n",
    "    data = sheet.get_all_values()\n",
    "    headers = data.pop(0)\n",
    "\n",
    "    df = pd.DataFrame(data, columns=headers)\n",
    "    display(df.head())\n",
    "    \n",
    "    return df"
   ]
  },
  {
   "cell_type": "code",
   "execution_count": null,
   "metadata": {
    "ExecuteTime": {
     "end_time": "2021-01-31T07:55:59.338847Z",
     "start_time": "2021-01-31T07:55:57.373287Z"
    }
   },
   "outputs": [],
   "source": [
    "df = read_google_sheet(\"stock_options_data\", \"nio_210118\")"
   ]
  },
  {
   "cell_type": "code",
   "execution_count": null,
   "metadata": {
    "ExecuteTime": {
     "end_time": "2021-01-31T07:55:59.347069Z",
     "start_time": "2021-01-31T07:55:59.341835Z"
    }
   },
   "outputs": [],
   "source": [
    "std = 61.95*0.9531*np.sqrt(5/12)"
   ]
  },
  {
   "cell_type": "code",
   "execution_count": null,
   "metadata": {
    "ExecuteTime": {
     "end_time": "2021-01-24T05:13:03.821475Z",
     "start_time": "2021-01-24T05:13:03.816834Z"
    }
   },
   "outputs": [],
   "source": []
  },
  {
   "cell_type": "markdown",
   "metadata": {
    "ExecuteTime": {
     "end_time": "2021-01-24T06:06:33.868891Z",
     "start_time": "2021-01-24T06:06:33.859741Z"
    }
   },
   "source": [
    "<H1> Monte Carlo Price Prediction </H1>"
   ]
  },
  {
   "cell_type": "code",
   "execution_count": null,
   "metadata": {
    "ExecuteTime": {
     "end_time": "2021-01-31T07:55:59.361398Z",
     "start_time": "2021-01-31T07:55:59.350601Z"
    }
   },
   "outputs": [],
   "source": [
    "def predict_price(curr_price, imp_vol, exp_date):\n",
    "\n",
    "    exp_date = datetime.strptime(exp_date, '%Y-%m-%d')\n",
    "    curr_date = datetime.now()\n",
    "    month_from_now = (exp_date.year - curr_date.year)*12 + (exp_date.month - curr_date.month) \n",
    "\n",
    "\n",
    "\n",
    "    std_dev = curr_price * imp_vol * np.sqrt(month_from_now/12)\n",
    "\n",
    "    num_reps = 1000\n",
    "    num_iter = 1000\n",
    "    possible_prices = []\n",
    "\n",
    "    # Generate all possible prices\n",
    "    for i in range(num_iter):\n",
    "        prices = np.random.normal(curr_price, std_dev, num_reps)\n",
    "        prices = [int(x) if x>=0 else x for x in prices ]\n",
    "        possible_prices.extend(prices)\n",
    "\n",
    "    # count all the prices and create a dictionary\n",
    "    price_counter = {}\n",
    "    for price in possible_prices:\n",
    "        if price_counter.get(price):\n",
    "            price_counter[price]+=1\n",
    "        else:\n",
    "            price_counter[price] = 1 \n",
    "\n",
    "    # Create a list of counts and a list of probabilities\n",
    "    max_price = 200\n",
    "    total_count = len(possible_prices)\n",
    "\n",
    "    price_count = []\n",
    "    price_prob = [] \n",
    "\n",
    "\n",
    "    for price in range(max_price):\n",
    "        if price_counter.get(price):\n",
    "            price_count.append(price_counter[price])\n",
    "\n",
    "            prob = price_counter[price]/total_count\n",
    "            price_prob.append(prob)\n",
    "        else:\n",
    "            price_count.append(0)\n",
    "            price_prob.append(0)\n",
    "\n",
    "\n",
    "    plt.bar(range(max_price), price_count)"
   ]
  },
  {
   "cell_type": "code",
   "execution_count": null,
   "metadata": {
    "ExecuteTime": {
     "end_time": "2021-01-31T07:56:00.726542Z",
     "start_time": "2021-01-31T07:55:59.365310Z"
    }
   },
   "outputs": [],
   "source": [
    "curr_price = 61.95\n",
    "imp_vol = 0.9531\n",
    "exp_date = '2021-05-18'\n",
    "\n",
    "predict_price(curr_price, imp_vol, exp_date)"
   ]
  },
  {
   "cell_type": "code",
   "execution_count": null,
   "metadata": {},
   "outputs": [],
   "source": []
  }
 ],
 "metadata": {
  "kernelspec": {
   "display_name": "Python 3",
   "language": "python",
   "name": "python3"
  },
  "language_info": {
   "codemirror_mode": {
    "name": "ipython",
    "version": 3
   },
   "file_extension": ".py",
   "mimetype": "text/x-python",
   "name": "python",
   "nbconvert_exporter": "python",
   "pygments_lexer": "ipython3",
   "version": "3.6.8"
  },
  "toc": {
   "base_numbering": 1,
   "nav_menu": {},
   "number_sections": true,
   "sideBar": true,
   "skip_h1_title": false,
   "title_cell": "Table of Contents",
   "title_sidebar": "Contents",
   "toc_cell": false,
   "toc_position": {},
   "toc_section_display": true,
   "toc_window_display": false
  },
  "varInspector": {
   "cols": {
    "lenName": 16,
    "lenType": 16,
    "lenVar": 40
   },
   "kernels_config": {
    "python": {
     "delete_cmd_postfix": "",
     "delete_cmd_prefix": "del ",
     "library": "var_list.py",
     "varRefreshCmd": "print(var_dic_list())"
    },
    "r": {
     "delete_cmd_postfix": ") ",
     "delete_cmd_prefix": "rm(",
     "library": "var_list.r",
     "varRefreshCmd": "cat(var_dic_list()) "
    }
   },
   "types_to_exclude": [
    "module",
    "function",
    "builtin_function_or_method",
    "instance",
    "_Feature"
   ],
   "window_display": false
  }
 },
 "nbformat": 4,
 "nbformat_minor": 2
}
